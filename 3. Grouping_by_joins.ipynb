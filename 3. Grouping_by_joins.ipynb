{
 "cells": [
  {
   "cell_type": "code",
   "execution_count": 1,
   "id": "4341e0e6",
   "metadata": {},
   "outputs": [
    {
     "name": "stderr",
     "output_type": "stream",
     "text": [
      "WARNING: An illegal reflective access operation has occurred\n",
      "WARNING: Illegal reflective access by org.apache.spark.unsafe.Platform (file:/home/tez/spark/spark-3.1.3-bin-hadoop3.2/jars/spark-unsafe_2.12-3.1.3.jar) to constructor java.nio.DirectByteBuffer(long,int)\n",
      "WARNING: Please consider reporting this to the maintainers of org.apache.spark.unsafe.Platform\n",
      "WARNING: Use --illegal-access=warn to enable warnings of further illegal reflective access operations\n",
      "WARNING: All illegal access operations will be denied in a future release\n",
      "22/10/11 00:35:16 WARN NativeCodeLoader: Unable to load native-hadoop library for your platform... using builtin-java classes where applicable\n",
      "Using Spark's default log4j profile: org/apache/spark/log4j-defaults.properties\n",
      "Setting default log level to \"WARN\".\n",
      "To adjust logging level use sc.setLogLevel(newLevel). For SparkR, use setLogLevel(newLevel).\n"
     ]
    }
   ],
   "source": [
    "import pyspark\n",
    "from pyspark.sql import SparkSession\n",
    "\n",
    "spark = SparkSession.builder \\\n",
    "    .master(\"local[*]\") \\\n",
    "    .appName('test') \\\n",
    "    .getOrCreate()"
   ]
  },
  {
   "cell_type": "code",
   "execution_count": 2,
   "id": "cd304aec",
   "metadata": {},
   "outputs": [
    {
     "name": "stderr",
     "output_type": "stream",
     "text": [
      "                                                                                \r"
     ]
    }
   ],
   "source": [
    "df_green = spark.read.parquet('data/pq/green/*/*')"
   ]
  },
  {
   "cell_type": "code",
   "execution_count": 3,
   "id": "243991f3",
   "metadata": {},
   "outputs": [],
   "source": [
    "df_green.registerTempTable('green')"
   ]
  },
  {
   "cell_type": "code",
   "execution_count": 4,
   "id": "e43764a7",
   "metadata": {},
   "outputs": [],
   "source": [
    "df_green_revenue = spark.sql(\"\"\"\n",
    "SELECT \n",
    "    date_trunc('hour', lpep_pickup_datetime) AS hour, \n",
    "    PULocationID AS zone,\n",
    "\n",
    "    SUM(total_amount) AS amount,\n",
    "    COUNT(1) AS number_records\n",
    "FROM\n",
    "    green\n",
    "WHERE\n",
    "    lpep_pickup_datetime >= '2020-01-01 00:00:00'\n",
    "GROUP BY\n",
    "    1, 2\n",
    "\"\"\")"
   ]
  },
  {
   "cell_type": "code",
   "execution_count": 5,
   "id": "3e00310e",
   "metadata": {},
   "outputs": [
    {
     "name": "stderr",
     "output_type": "stream",
     "text": [
      "                                                                                \r"
     ]
    }
   ],
   "source": [
    "df_green_revenue \\\n",
    "    .repartition(20) \\\n",
    "    .write.parquet('data/report/revenue/green', mode='overwrite')"
   ]
  },
  {
   "cell_type": "code",
   "execution_count": 6,
   "id": "07ebb68c",
   "metadata": {},
   "outputs": [],
   "source": [
    "df_yellow = spark.read.parquet('data/pq/yellow/*/*')\n",
    "df_yellow.registerTempTable('yellow')"
   ]
  },
  {
   "cell_type": "code",
   "execution_count": 7,
   "id": "9d5be29d",
   "metadata": {},
   "outputs": [],
   "source": [
    "df_yellow_revenue = spark.sql(\"\"\"\n",
    "SELECT \n",
    "    date_trunc('hour', tpep_pickup_datetime) AS hour, \n",
    "    PULocationID AS zone,\n",
    "\n",
    "    SUM(total_amount) AS amount,\n",
    "    COUNT(1) AS number_records\n",
    "FROM\n",
    "    yellow\n",
    "WHERE\n",
    "    tpep_pickup_datetime >= '2020-01-01 00:00:00'\n",
    "GROUP BY\n",
    "    1, 2\n",
    "\"\"\")"
   ]
  },
  {
   "cell_type": "code",
   "execution_count": 8,
   "id": "8bd9264e",
   "metadata": {},
   "outputs": [
    {
     "name": "stderr",
     "output_type": "stream",
     "text": [
      "                                                                                \r"
     ]
    }
   ],
   "source": [
    "df_yellow_revenue \\\n",
    "    .repartition(20) \\\n",
    "    .write.parquet('data/report/revenue/yellow', mode='overwrite')"
   ]
  },
  {
   "cell_type": "code",
   "execution_count": 9,
   "id": "fd5d74d7",
   "metadata": {},
   "outputs": [],
   "source": [
    "df_green_revenue = spark.read.parquet('data/report/revenue/green')\n",
    "df_yellow_revenue = spark.read.parquet('data/report/revenue/yellow')"
   ]
  },
  {
   "cell_type": "code",
   "execution_count": 10,
   "id": "35015ee6",
   "metadata": {},
   "outputs": [],
   "source": [
    "df_green_revenue_tmp = df_green_revenue \\\n",
    "    .withColumnRenamed('amount', 'green_amount') \\\n",
    "    .withColumnRenamed('number_records', 'green_number_records')\n",
    "\n",
    "df_yellow_revenue_tmp = df_yellow_revenue \\\n",
    "    .withColumnRenamed('amount', 'yellow_amount') \\\n",
    "    .withColumnRenamed('number_records', 'yellow_number_records')"
   ]
  },
  {
   "cell_type": "code",
   "execution_count": 11,
   "id": "ec9f34ea",
   "metadata": {},
   "outputs": [],
   "source": [
    "df_join = df_green_revenue_tmp.join(df_yellow_revenue_tmp, on=['hour', 'zone'], how='outer')"
   ]
  },
  {
   "cell_type": "code",
   "execution_count": 12,
   "id": "10238be7",
   "metadata": {},
   "outputs": [
    {
     "name": "stderr",
     "output_type": "stream",
     "text": [
      "                                                                                \r"
     ]
    }
   ],
   "source": [
    "df_join.write.parquet('data/report/revenue/total', mode='overwrite')"
   ]
  },
  {
   "cell_type": "code",
   "execution_count": 13,
   "id": "c3af7169",
   "metadata": {},
   "outputs": [],
   "source": [
    "df_join = spark.read.parquet('data/report/revenue/total')"
   ]
  },
  {
   "cell_type": "code",
   "execution_count": 14,
   "id": "bc2a6680",
   "metadata": {},
   "outputs": [
    {
     "name": "stdout",
     "output_type": "stream",
     "text": [
      "+-------------------+----+------------------+--------------------+------------------+---------------------+\n",
      "|               hour|zone|      green_amount|green_number_records|     yellow_amount|yellow_number_records|\n",
      "+-------------------+----+------------------+--------------------+------------------+---------------------+\n",
      "|2020-01-01 05:00:00| 143|              null|                null|            275.12|                    9|\n",
      "|2020-01-01 05:00:00| 161|              null|                null| 979.1199999999997|                   39|\n",
      "|2020-01-01 06:00:00|  92|             28.66|                   2|             71.16|                    1|\n",
      "|2020-01-01 06:00:00|  93|              null|                null|            330.47|                    5|\n",
      "|2020-01-01 07:00:00|  47|              2.75|                   1|              19.3|                    1|\n",
      "|2020-01-01 08:00:00| 142|              null|                null|1331.8899999999992|                   54|\n",
      "|2020-01-01 09:00:00| 138|              null|                null|4042.9600000000037|                  107|\n",
      "|2020-01-01 09:00:00| 232|              null|                null|             69.18|                    4|\n",
      "|2020-01-01 12:00:00|  49|34.900000000000006|                   3|             24.83|                    1|\n",
      "|2020-01-01 13:00:00|  40|            131.55|                   2|              null|                 null|\n",
      "|2020-01-01 13:00:00| 157|              null|                null|              55.3|                    1|\n",
      "|2020-01-01 14:00:00|  83|              72.7|                   4|               9.3|                    1|\n",
      "|2020-01-01 15:00:00| 136|103.75000000000001|                   3|              38.1|                    2|\n",
      "|2020-01-01 15:00:00| 259|             52.19|                   2|              null|                 null|\n",
      "|2020-01-01 16:00:00|  41| 723.0800000000002|                  31|            594.29|                   43|\n",
      "|2020-01-01 18:00:00|  75|276.58000000000004|                  20| 808.0299999999997|                   59|\n",
      "|2020-01-01 18:00:00| 191|              null|                null|            118.87|                    2|\n",
      "|2020-01-01 21:00:00|  16|              null|                null|               7.3|                    1|\n",
      "|2020-01-01 22:00:00| 145|              null|                null|            133.06|                    5|\n",
      "|2020-01-02 04:00:00| 130|             51.24|                   3|              null|                 null|\n",
      "+-------------------+----+------------------+--------------------+------------------+---------------------+\n",
      "only showing top 20 rows\n",
      "\n"
     ]
    }
   ],
   "source": [
    "df_join.show()"
   ]
  },
  {
   "cell_type": "code",
   "execution_count": 15,
   "id": "abb46398",
   "metadata": {},
   "outputs": [],
   "source": [
    "df_zones = spark.read.parquet('zones/')"
   ]
  },
  {
   "cell_type": "code",
   "execution_count": 17,
   "id": "69f502e6",
   "metadata": {},
   "outputs": [
    {
     "name": "stdout",
     "output_type": "stream",
     "text": [
      "+----------+-------------+--------------------+------------+\n",
      "|LocationID|      Borough|                Zone|service_zone|\n",
      "+----------+-------------+--------------------+------------+\n",
      "|         1|          EWR|      Newark Airport|         EWR|\n",
      "|         2|       Queens|         Jamaica Bay|   Boro Zone|\n",
      "|         3|        Bronx|Allerton/Pelham G...|   Boro Zone|\n",
      "|         4|    Manhattan|       Alphabet City| Yellow Zone|\n",
      "|         5|Staten Island|       Arden Heights|   Boro Zone|\n",
      "|         6|Staten Island|Arrochar/Fort Wad...|   Boro Zone|\n",
      "|         7|       Queens|             Astoria|   Boro Zone|\n",
      "|         8|       Queens|        Astoria Park|   Boro Zone|\n",
      "|         9|       Queens|          Auburndale|   Boro Zone|\n",
      "|        10|       Queens|        Baisley Park|   Boro Zone|\n",
      "|        11|     Brooklyn|          Bath Beach|   Boro Zone|\n",
      "|        12|    Manhattan|        Battery Park| Yellow Zone|\n",
      "|        13|    Manhattan|   Battery Park City| Yellow Zone|\n",
      "|        14|     Brooklyn|           Bay Ridge|   Boro Zone|\n",
      "|        15|       Queens|Bay Terrace/Fort ...|   Boro Zone|\n",
      "|        16|       Queens|             Bayside|   Boro Zone|\n",
      "|        17|     Brooklyn|             Bedford|   Boro Zone|\n",
      "|        18|        Bronx|        Bedford Park|   Boro Zone|\n",
      "|        19|       Queens|           Bellerose|   Boro Zone|\n",
      "|        20|        Bronx|             Belmont|   Boro Zone|\n",
      "+----------+-------------+--------------------+------------+\n",
      "only showing top 20 rows\n",
      "\n"
     ]
    }
   ],
   "source": [
    "df_zones.show()"
   ]
  },
  {
   "cell_type": "code",
   "execution_count": 16,
   "id": "b3cf98a5",
   "metadata": {},
   "outputs": [],
   "source": [
    "df_result = df_join.join(df_zones, df_join.zone == df_zones.LocationID)"
   ]
  },
  {
   "cell_type": "code",
   "execution_count": 18,
   "id": "d7f9ff64",
   "metadata": {},
   "outputs": [
    {
     "name": "stdout",
     "output_type": "stream",
     "text": [
      "+-------------------+----+------------------+--------------------+------------------+---------------------+----------+---------+--------------------+------------+\n",
      "|               hour|zone|      green_amount|green_number_records|     yellow_amount|yellow_number_records|LocationID|  Borough|                Zone|service_zone|\n",
      "+-------------------+----+------------------+--------------------+------------------+---------------------+----------+---------+--------------------+------------+\n",
      "|2020-01-01 05:00:00| 143|              null|                null|            275.12|                    9|       143|Manhattan| Lincoln Square West| Yellow Zone|\n",
      "|2020-01-01 05:00:00| 161|              null|                null| 979.1199999999997|                   39|       161|Manhattan|      Midtown Center| Yellow Zone|\n",
      "|2020-01-01 06:00:00|  92|             28.66|                   2|             71.16|                    1|        92|   Queens|            Flushing|   Boro Zone|\n",
      "|2020-01-01 06:00:00|  93|              null|                null|            330.47|                    5|        93|   Queens|Flushing Meadows-...|   Boro Zone|\n",
      "|2020-01-01 07:00:00|  47|              2.75|                   1|              19.3|                    1|        47|    Bronx|  Claremont/Bathgate|   Boro Zone|\n",
      "|2020-01-01 08:00:00| 142|              null|                null|1331.8899999999992|                   54|       142|Manhattan| Lincoln Square East| Yellow Zone|\n",
      "|2020-01-01 09:00:00| 138|              null|                null|4042.9600000000037|                  107|       138|   Queens|   LaGuardia Airport|    Airports|\n",
      "|2020-01-01 09:00:00| 232|              null|                null|             69.18|                    4|       232|Manhattan|Two Bridges/Sewar...| Yellow Zone|\n",
      "|2020-01-01 12:00:00|  49|34.900000000000006|                   3|             24.83|                    1|        49| Brooklyn|        Clinton Hill|   Boro Zone|\n",
      "|2020-01-01 13:00:00|  40|            131.55|                   2|              null|                 null|        40| Brooklyn|     Carroll Gardens|   Boro Zone|\n",
      "|2020-01-01 13:00:00| 157|              null|                null|              55.3|                    1|       157|   Queens|             Maspeth|   Boro Zone|\n",
      "|2020-01-01 14:00:00|  83|              72.7|                   4|               9.3|                    1|        83|   Queens|    Elmhurst/Maspeth|   Boro Zone|\n",
      "|2020-01-01 15:00:00| 136|103.75000000000001|                   3|              38.1|                    2|       136|    Bronx| Kingsbridge Heights|   Boro Zone|\n",
      "|2020-01-01 15:00:00| 259|             52.19|                   2|              null|                 null|       259|    Bronx|  Woodlawn/Wakefield|   Boro Zone|\n",
      "|2020-01-01 16:00:00|  41| 723.0800000000002|                  31|            594.29|                   43|        41|Manhattan|      Central Harlem|   Boro Zone|\n",
      "|2020-01-01 18:00:00|  75|276.58000000000004|                  20| 808.0299999999997|                   59|        75|Manhattan|   East Harlem South|   Boro Zone|\n",
      "|2020-01-01 18:00:00| 191|              null|                null|            118.87|                    2|       191|   Queens|      Queens Village|   Boro Zone|\n",
      "|2020-01-01 21:00:00|  16|              null|                null|               7.3|                    1|        16|   Queens|             Bayside|   Boro Zone|\n",
      "|2020-01-01 22:00:00| 145|              null|                null|            133.06|                    5|       145|   Queens|Long Island City/...|   Boro Zone|\n",
      "|2020-01-02 04:00:00| 130|             51.24|                   3|              null|                 null|       130|   Queens|             Jamaica|   Boro Zone|\n",
      "+-------------------+----+------------------+--------------------+------------------+---------------------+----------+---------+--------------------+------------+\n",
      "only showing top 20 rows\n",
      "\n"
     ]
    }
   ],
   "source": [
    "df_result.show()"
   ]
  },
  {
   "cell_type": "code",
   "execution_count": 22,
   "id": "5e0614ba",
   "metadata": {},
   "outputs": [
    {
     "name": "stderr",
     "output_type": "stream",
     "text": [
      "                                                                                \r"
     ]
    }
   ],
   "source": [
    "df_result.drop('LocationID', 'zone').write.parquet('tmp/revenue-zones', mode = 'overwrite')"
   ]
  },
  {
   "cell_type": "code",
   "execution_count": 23,
   "id": "9f5ca913",
   "metadata": {},
   "outputs": [
    {
     "name": "stdout",
     "output_type": "stream",
     "text": [
      "+-------------------+------------------+--------------------+------------------+---------------------+---------+------------+\n",
      "|               hour|      green_amount|green_number_records|     yellow_amount|yellow_number_records|  Borough|service_zone|\n",
      "+-------------------+------------------+--------------------+------------------+---------------------+---------+------------+\n",
      "|2020-01-01 05:00:00|              null|                null|            275.12|                    9|Manhattan| Yellow Zone|\n",
      "|2020-01-01 05:00:00|              null|                null| 979.1199999999997|                   39|Manhattan| Yellow Zone|\n",
      "|2020-01-01 06:00:00|             28.66|                   2|             71.16|                    1|   Queens|   Boro Zone|\n",
      "|2020-01-01 06:00:00|              null|                null|            330.47|                    5|   Queens|   Boro Zone|\n",
      "|2020-01-01 07:00:00|              2.75|                   1|              19.3|                    1|    Bronx|   Boro Zone|\n",
      "|2020-01-01 08:00:00|              null|                null|1331.8899999999992|                   54|Manhattan| Yellow Zone|\n",
      "|2020-01-01 09:00:00|              null|                null|4042.9600000000037|                  107|   Queens|    Airports|\n",
      "|2020-01-01 09:00:00|              null|                null|             69.18|                    4|Manhattan| Yellow Zone|\n",
      "|2020-01-01 12:00:00|34.900000000000006|                   3|             24.83|                    1| Brooklyn|   Boro Zone|\n",
      "|2020-01-01 13:00:00|            131.55|                   2|              null|                 null| Brooklyn|   Boro Zone|\n",
      "|2020-01-01 13:00:00|              null|                null|              55.3|                    1|   Queens|   Boro Zone|\n",
      "|2020-01-01 14:00:00|              72.7|                   4|               9.3|                    1|   Queens|   Boro Zone|\n",
      "|2020-01-01 15:00:00|103.75000000000001|                   3|              38.1|                    2|    Bronx|   Boro Zone|\n",
      "|2020-01-01 15:00:00|             52.19|                   2|              null|                 null|    Bronx|   Boro Zone|\n",
      "|2020-01-01 16:00:00| 723.0800000000002|                  31|            594.29|                   43|Manhattan|   Boro Zone|\n",
      "|2020-01-01 18:00:00|276.58000000000004|                  20| 808.0299999999997|                   59|Manhattan|   Boro Zone|\n",
      "|2020-01-01 18:00:00|              null|                null|            118.87|                    2|   Queens|   Boro Zone|\n",
      "|2020-01-01 21:00:00|              null|                null|               7.3|                    1|   Queens|   Boro Zone|\n",
      "|2020-01-01 22:00:00|              null|                null|            133.06|                    5|   Queens|   Boro Zone|\n",
      "|2020-01-02 04:00:00|             51.24|                   3|              null|                 null|   Queens|   Boro Zone|\n",
      "+-------------------+------------------+--------------------+------------------+---------------------+---------+------------+\n",
      "only showing top 20 rows\n",
      "\n"
     ]
    }
   ],
   "source": [
    "df_result.drop('LocationID', 'zone').show()"
   ]
  },
  {
   "cell_type": "code",
   "execution_count": null,
   "id": "9f235639",
   "metadata": {},
   "outputs": [],
   "source": []
  }
 ],
 "metadata": {
  "kernelspec": {
   "display_name": "Python 3",
   "language": "python",
   "name": "python3"
  },
  "language_info": {
   "codemirror_mode": {
    "name": "ipython",
    "version": 3
   },
   "file_extension": ".py",
   "mimetype": "text/x-python",
   "name": "python",
   "nbconvert_exporter": "python",
   "pygments_lexer": "ipython3",
   "version": "3.9.12"
  },
  "vscode": {
   "interpreter": {
    "hash": "31f2aee4e71d21fbe5cf8b01ff0e069b9275f58929596ceb00d14d90e3e16cd6"
   }
  }
 },
 "nbformat": 4,
 "nbformat_minor": 5
}
