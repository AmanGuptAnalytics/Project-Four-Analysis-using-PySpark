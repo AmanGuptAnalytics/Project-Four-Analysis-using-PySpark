{
 "cells": [
  {
   "cell_type": "code",
   "execution_count": 1,
   "id": "3307b886",
   "metadata": {},
   "outputs": [
    {
     "name": "stderr",
     "output_type": "stream",
     "text": [
      "WARNING: An illegal reflective access operation has occurred\n",
      "WARNING: Illegal reflective access by org.apache.spark.unsafe.Platform (file:/home/tez/spark/spark-3.1.3-bin-hadoop3.2/jars/spark-unsafe_2.12-3.1.3.jar) to constructor java.nio.DirectByteBuffer(long,int)\n",
      "WARNING: Please consider reporting this to the maintainers of org.apache.spark.unsafe.Platform\n",
      "WARNING: Use --illegal-access=warn to enable warnings of further illegal reflective access operations\n",
      "WARNING: All illegal access operations will be denied in a future release\n",
      "22/10/10 14:11:37 WARN NativeCodeLoader: Unable to load native-hadoop library for your platform... using builtin-java classes where applicable\n",
      "Using Spark's default log4j profile: org/apache/spark/log4j-defaults.properties\n",
      "Setting default log level to \"WARN\".\n",
      "To adjust logging level use sc.setLogLevel(newLevel). For SparkR, use setLogLevel(newLevel).\n"
     ]
    }
   ],
   "source": [
    "import pyspark\n",
    "from pyspark.sql import SparkSession\n",
    "\n",
    "spark = SparkSession.builder \\\n",
    "    .master(\"local[*]\") \\\n",
    "    .appName('test') \\\n",
    "    .getOrCreate()"
   ]
  },
  {
   "cell_type": "code",
   "execution_count": 3,
   "id": "1ee1eb1d",
   "metadata": {},
   "outputs": [
    {
     "name": "stderr",
     "output_type": "stream",
     "text": [
      "                                                                                \r"
     ]
    }
   ],
   "source": [
    "df_green = spark.read.parquet('data/pq/green/*/*')"
   ]
  },
  {
   "cell_type": "code",
   "execution_count": 4,
   "id": "0ca5ee99",
   "metadata": {},
   "outputs": [],
   "source": [
    "df_yellow = spark.read.parquet('data/pq/yellow/*/*')"
   ]
  },
  {
   "cell_type": "code",
   "execution_count": 5,
   "id": "49e549f1",
   "metadata": {},
   "outputs": [
    {
     "data": {
      "text/plain": [
       "{'DOLocationID',\n",
       " 'PULocationID',\n",
       " 'RatecodeID',\n",
       " 'VendorID',\n",
       " 'congestion_surcharge',\n",
       " 'extra',\n",
       " 'fare_amount',\n",
       " 'improvement_surcharge',\n",
       " 'mta_tax',\n",
       " 'passenger_count',\n",
       " 'payment_type',\n",
       " 'store_and_fwd_flag',\n",
       " 'tip_amount',\n",
       " 'tolls_amount',\n",
       " 'total_amount',\n",
       " 'trip_distance'}"
      ]
     },
     "execution_count": 5,
     "metadata": {},
     "output_type": "execute_result"
    }
   ],
   "source": [
    "set(df_green.columns) & set(df_yellow.columns)"
   ]
  },
  {
   "cell_type": "code",
   "execution_count": null,
   "id": "82bd3e69",
   "metadata": {},
   "outputs": [],
   "source": []
  },
  {
   "cell_type": "code",
   "execution_count": 6,
   "id": "649bb4da",
   "metadata": {},
   "outputs": [],
   "source": [
    "df_green = df_green \\\n",
    "    .withColumnRenamed('lpep_pickup_datetime', 'pickup_datetime') \\\n",
    "    .withColumnRenamed('lpep_dropoff_datetime', 'dropoff_datetime')"
   ]
  },
  {
   "cell_type": "code",
   "execution_count": 7,
   "id": "88822efd",
   "metadata": {},
   "outputs": [],
   "source": [
    "df_yellow = df_yellow \\\n",
    "    .withColumnRenamed('tpep_pickup_datetime', 'pickup_datetime') \\\n",
    "    .withColumnRenamed('tpep_dropoff_datetime', 'dropoff_datetime')"
   ]
  },
  {
   "cell_type": "code",
   "execution_count": 8,
   "id": "610167a2",
   "metadata": {},
   "outputs": [],
   "source": [
    "common_colums = []\n",
    "\n",
    "yellow_columns = set(df_yellow.columns)\n",
    "\n",
    "for col in df_green.columns:\n",
    "    if col in yellow_columns:\n",
    "        common_colums.append(col)"
   ]
  },
  {
   "cell_type": "code",
   "execution_count": 12,
   "id": "33236f7d",
   "metadata": {},
   "outputs": [
    {
     "data": {
      "text/plain": [
       "['VendorID',\n",
       " 'pickup_datetime',\n",
       " 'dropoff_datetime',\n",
       " 'store_and_fwd_flag',\n",
       " 'RatecodeID',\n",
       " 'PULocationID',\n",
       " 'DOLocationID',\n",
       " 'passenger_count',\n",
       " 'trip_distance',\n",
       " 'fare_amount',\n",
       " 'extra',\n",
       " 'mta_tax',\n",
       " 'tip_amount',\n",
       " 'tolls_amount',\n",
       " 'improvement_surcharge',\n",
       " 'total_amount',\n",
       " 'payment_type',\n",
       " 'congestion_surcharge']"
      ]
     },
     "execution_count": 12,
     "metadata": {},
     "output_type": "execute_result"
    }
   ],
   "source": [
    "common_colums"
   ]
  },
  {
   "cell_type": "code",
   "execution_count": 9,
   "id": "839d773f",
   "metadata": {},
   "outputs": [],
   "source": [
    "from pyspark.sql import functions as F"
   ]
  },
  {
   "cell_type": "code",
   "execution_count": 10,
   "id": "2498810a",
   "metadata": {},
   "outputs": [],
   "source": [
    "df_green_sel = df_green \\\n",
    "    .select(common_colums) \\\n",
    "    .withColumn('service_type', F.lit('green'))"
   ]
  },
  {
   "cell_type": "code",
   "execution_count": 11,
   "id": "19032efc",
   "metadata": {},
   "outputs": [],
   "source": [
    "df_yellow_sel = df_yellow \\\n",
    "    .select(common_colums) \\\n",
    "    .withColumn('service_type', F.lit('yellow'))"
   ]
  },
  {
   "cell_type": "code",
   "execution_count": 12,
   "id": "f5b0f3d1",
   "metadata": {},
   "outputs": [],
   "source": [
    "df_trips_data = df_green_sel.unionAll(df_yellow_sel)"
   ]
  },
  {
   "cell_type": "code",
   "execution_count": 13,
   "id": "1bed8b33",
   "metadata": {},
   "outputs": [
    {
     "name": "stderr",
     "output_type": "stream",
     "text": [
      "                                                                                \r"
     ]
    },
    {
     "name": "stdout",
     "output_type": "stream",
     "text": [
      "+------------+---------+\n",
      "|service_type|    count|\n",
      "+------------+---------+\n",
      "|       green|  8035161|\n",
      "|      yellow|109247536|\n",
      "+------------+---------+\n",
      "\n"
     ]
    }
   ],
   "source": [
    "df_trips_data.groupBy('service_type').count().show()"
   ]
  },
  {
   "cell_type": "code",
   "execution_count": 15,
   "id": "28cc8fa3",
   "metadata": {},
   "outputs": [
    {
     "data": {
      "text/plain": [
       "['VendorID',\n",
       " 'pickup_datetime',\n",
       " 'dropoff_datetime',\n",
       " 'store_and_fwd_flag',\n",
       " 'RatecodeID',\n",
       " 'PULocationID',\n",
       " 'DOLocationID',\n",
       " 'passenger_count',\n",
       " 'trip_distance',\n",
       " 'fare_amount',\n",
       " 'extra',\n",
       " 'mta_tax',\n",
       " 'tip_amount',\n",
       " 'tolls_amount',\n",
       " 'improvement_surcharge',\n",
       " 'total_amount',\n",
       " 'payment_type',\n",
       " 'congestion_surcharge',\n",
       " 'service_type']"
      ]
     },
     "execution_count": 15,
     "metadata": {},
     "output_type": "execute_result"
    }
   ],
   "source": [
    "df_trips_data.columns"
   ]
  },
  {
   "cell_type": "code",
   "execution_count": 16,
   "id": "36e90cbc",
   "metadata": {},
   "outputs": [],
   "source": [
    "df_trips_data.registerTempTable('trips_data')"
   ]
  },
  {
   "cell_type": "code",
   "execution_count": 17,
   "id": "d0e01bf1",
   "metadata": {},
   "outputs": [
    {
     "name": "stderr",
     "output_type": "stream",
     "text": [
      "                                                                                \r"
     ]
    },
    {
     "name": "stdout",
     "output_type": "stream",
     "text": [
      "+------------+---------+\n",
      "|service_type| count(1)|\n",
      "+------------+---------+\n",
      "|       green|  8035161|\n",
      "|      yellow|109247536|\n",
      "+------------+---------+\n",
      "\n"
     ]
    }
   ],
   "source": [
    "spark.sql(\"\"\"\n",
    "SELECT\n",
    "    service_type,\n",
    "    count(1)\n",
    "FROM\n",
    "    trips_data\n",
    "GROUP BY \n",
    "    service_type\n",
    "\"\"\").show()"
   ]
  },
  {
   "cell_type": "code",
   "execution_count": 18,
   "id": "b2ee7038",
   "metadata": {},
   "outputs": [],
   "source": [
    "df_result = spark.sql(\"\"\"\n",
    "SELECT \n",
    "    -- Reveneue grouping \n",
    "    PULocationID AS revenue_zone,\n",
    "    date_trunc('month', pickup_datetime) AS revenue_month, \n",
    "    service_type, \n",
    "\n",
    "    -- Revenue calculation \n",
    "    SUM(fare_amount) AS revenue_monthly_fare,\n",
    "    SUM(extra) AS revenue_monthly_extra,\n",
    "    SUM(mta_tax) AS revenue_monthly_mta_tax,\n",
    "    SUM(tip_amount) AS revenue_monthly_tip_amount,\n",
    "    SUM(tolls_amount) AS revenue_monthly_tolls_amount,\n",
    "    SUM(improvement_surcharge) AS revenue_monthly_improvement_surcharge,\n",
    "    SUM(total_amount) AS revenue_monthly_total_amount,\n",
    "    SUM(congestion_surcharge) AS revenue_monthly_congestion_surcharge,\n",
    "\n",
    "    -- Additional calculations\n",
    "    AVG(passenger_count) AS avg_montly_passenger_count,\n",
    "    AVG(trip_distance) AS avg_montly_trip_distance\n",
    "FROM\n",
    "    trips_data\n",
    "GROUP BY\n",
    "    1, 2, 3\n",
    "\"\"\")"
   ]
  },
  {
   "cell_type": "code",
   "execution_count": 23,
   "id": "b3ef6857",
   "metadata": {},
   "outputs": [
    {
     "name": "stdout",
     "output_type": "stream",
     "text": [
      "+------------+-------------------+------------+--------------------+---------------------+-----------------------+--------------------------+----------------------------+-------------------------------------+----------------------------+------------------------------------+--------------------------+------------------------+\n",
      "|revenue_zone|      revenue_month|service_type|revenue_monthly_fare|revenue_monthly_extra|revenue_monthly_mta_tax|revenue_monthly_tip_amount|revenue_monthly_tolls_amount|revenue_monthly_improvement_surcharge|revenue_monthly_total_amount|revenue_monthly_congestion_surcharge|avg_montly_passenger_count|avg_montly_trip_distance|\n",
      "+------------+-------------------+------------+--------------------+---------------------+-----------------------+--------------------------+----------------------------+-------------------------------------+----------------------------+------------------------------------+--------------------------+------------------------+\n",
      "|         232|2020-01-01 00:00:00|       green|  7108.4500000000035|                502.0|                  32.55|                       0.0|          186.64000000000004|                    75.29999999999964|           7904.939999999989|                                2.75|        1.1428571428571428|       5.600396825396825|\n",
      "|          61|2020-02-01 00:00:00|       green|    69339.4300000004|               5996.0|                  893.0|        1025.1799999999996|           741.7500000000003|                    999.8999999999397|           79369.60999999837|                              120.75|        1.2360128617363344|      3.5227986444507238|\n",
      "|         168|2020-03-01 00:00:00|       green|  16018.859999999995|                261.5|                  291.5|        222.31000000000006|           624.2900000000003|                   298.50000000000557|          17858.309999999976|                               74.25|        1.2292993630573248|       4.038592375366565|\n",
      "|          76|2020-03-01 00:00:00|       green|   29693.67999999998|               225.75|                  160.0|        59.289999999999985|           793.7900000000005|                    402.0000000000095|          31531.759999999867|                                 0.0|        1.2048611111111112|        5.92969652109549|\n",
      "|          77|2021-11-01 00:00:00|       green|   7459.160000000001|   388.45000000000005|                   28.0|                     14.97|           345.0700000000003|                   59.099999999999795|           8297.499999999995|                                 0.0|        1.3833333333333333|       9.540203045685288|\n",
      "|         202|2021-11-01 00:00:00|       green|   2671.799999999999|               139.45|                   20.0|        28.929999999999996|          117.89999999999996|                   23.400000000000034|                     3009.73|                                 5.5|                     1.075|        8.06346153846154|\n",
      "|         138|2021-12-01 00:00:00|       green|   953.7099999999999|                  5.0|                   12.0|                    188.34|          45.849999999999994|                   11.100000000000005|          1224.2499999999995|                                8.25|        1.2432432432432432|       3.962307692307693|\n",
      "|          55|2021-09-01 00:00:00|       green|  22734.400000000038|    968.7000000000002|                   97.0|         555.8499999999999|           754.8499999999992|                    169.5000000000007|          25321.550000000003|                               30.25|         1.361904761904762|        577.160862676057|\n",
      "|         209|2021-09-01 00:00:00|       green|   792.0100000000002|                 49.5|                    1.0|                       0.0|                       15.55|                    5.999999999999998|                      864.06|                                 0.0|                       1.0|                   9.315|\n",
      "|         134|2020-10-01 00:00:00|       green|  11178.410000000002|                173.5|                  198.0|        1080.0599999999995|          253.56000000000012|                    182.7000000000012|           13123.98000000002|                               41.25|        1.5550122249388754|       4.502791461412145|\n",
      "|         260|2020-09-01 00:00:00|       green|   6625.929999999996|                 49.5|                  133.0|                    521.55|          134.28000000000003|                   117.29999999999924|           7639.310000000021|                               52.25|        1.2394366197183098|      3.5275888324873113|\n",
      "|         112|2021-06-01 00:00:00|       green|  2351.2999999999997|                75.25|                   23.5|         293.5100000000001|           58.94999999999999|                    32.10000000000005|          2897.8600000000006|                               24.75|        1.2765957446808511|       5.344766355140188|\n",
      "|         264|2021-05-01 00:00:00|       green|   2451.029999999999|                39.75|                   51.5|                    151.71|                       26.91|                   48.599999999999895|           2769.500000000005|                                8.25|        1.4685714285714286|      0.4736158192090396|\n",
      "|         238|2021-05-01 00:00:00|       green|             1727.66|               171.75|                   5.05|         4.300000000000001|           54.53999999999999|                   18.900000000000023|          1991.1999999999998|                                2.75|                       1.0|               6.4034375|\n",
      "|         187|2021-07-01 00:00:00|       green|               86.98|                  0.0|                    0.0|                     11.76|                        13.1|                                  0.6|                      112.44|                                null|                      null|                   15.39|\n",
      "|          97|2020-11-01 00:00:00|       green|   33347.72000000026|               614.25|                  817.0|         4126.169999999997|          110.13000000000002|                    655.7999999999919|           39961.31999999951|                               307.5|        1.1478365384615385|       94.52418256130795|\n",
      "|         181|2020-11-01 00:00:00|       green|   17155.17000000002|                130.5|                  227.0|        1998.1400000000006|          159.87000000000003|                   279.60000000000485|          20087.030000000126|                              112.75|        1.2778993435448578|      3.5390343347639504|\n",
      "|         256|2020-09-01 00:00:00|       green|  2782.3699999999994|                26.25|                   25.5|                     291.7|           51.24999999999999|                    34.50000000000003|          3246.0699999999983|                                21.5|         1.435483870967742|       4.829747899159664|\n",
      "|          28|2020-09-01 00:00:00|       green|  3213.5099999999998|                  4.5|                   12.5|                    316.43|          110.21000000000002|                                 37.8|           3694.949999999997|                                 0.0|        1.1481481481481481|      5.8147619047619035|\n",
      "|         155|2020-09-01 00:00:00|       green|   7730.889999999991|                  5.0|                    9.5|                     694.0|                      171.78|                    78.89999999999961|                     8690.07|                                 0.0|                       1.5|       6.839809885931555|\n",
      "+------------+-------------------+------------+--------------------+---------------------+-----------------------+--------------------------+----------------------------+-------------------------------------+----------------------------+------------------------------------+--------------------------+------------------------+\n",
      "only showing top 20 rows\n",
      "\n"
     ]
    }
   ],
   "source": [
    "df_result.show()"
   ]
  },
  {
   "cell_type": "code",
   "execution_count": 19,
   "id": "f67eeb92",
   "metadata": {},
   "outputs": [
    {
     "name": "stderr",
     "output_type": "stream",
     "text": [
      "                                                                                \r"
     ]
    }
   ],
   "source": [
    "df_result.coalesce(1).write.parquet('data/report/revenue/', mode='overwrite')"
   ]
  },
  {
   "cell_type": "code",
   "execution_count": null,
   "id": "f56a885d",
   "metadata": {},
   "outputs": [],
   "source": []
  }
 ],
 "metadata": {
  "kernelspec": {
   "display_name": "Python 3",
   "language": "python",
   "name": "python3"
  },
  "language_info": {
   "codemirror_mode": {
    "name": "ipython",
    "version": 3
   },
   "file_extension": ".py",
   "mimetype": "text/x-python",
   "name": "python",
   "nbconvert_exporter": "python",
   "pygments_lexer": "ipython3",
   "version": "3.9.12"
  },
  "vscode": {
   "interpreter": {
    "hash": "31f2aee4e71d21fbe5cf8b01ff0e069b9275f58929596ceb00d14d90e3e16cd6"
   }
  }
 },
 "nbformat": 4,
 "nbformat_minor": 5
}
